{
 "cells": [
  {
   "cell_type": "code",
   "execution_count": 1,
   "id": "9909723e",
   "metadata": {},
   "outputs": [],
   "source": [
    "import numpy as np\n",
    "import pandas as pd\n",
    "import matplotlib.pyplot as plt\n",
    "%matplotlib inline\n",
    "# import seaborn as sns"
   ]
  },
  {
   "cell_type": "code",
   "execution_count": 2,
   "id": "4768cb73",
   "metadata": {},
   "outputs": [],
   "source": [
    "from datetime import datetime, date"
   ]
  },
  {
   "cell_type": "code",
   "execution_count": 3,
   "id": "7060c665",
   "metadata": {},
   "outputs": [],
   "source": [
    "from sklearn import metrics\n",
    "from sklearn.tree import DecisionTreeClassifier\n",
    "from sklearn import tree\n",
    "# from sklearn.neighbors import KNeighborsClassifier\n",
    "# from sklearn.ensemble import RandomForestClassifier\n",
    "from sklearn.ensemble import GradientBoostingClassifier\n",
    "# from sklearn.linear_model import LogisticRegression\n",
    "from sklearn.model_selection import GridSearchCV\n",
    "from sklearn.metrics import confusion_matrix, ConfusionMatrixDisplay"
   ]
  },
  {
   "cell_type": "code",
   "execution_count": 5,
   "id": "91af0d58",
   "metadata": {},
   "outputs": [],
   "source": [
    "# from IPython.display import SVG\n",
    "# # # from graphviz import Source\n",
    "# # from IPython.display import display\n",
    "# from IPython.display import Image\n",
    "import pydotplus"
   ]
  },
  {
   "cell_type": "code",
   "execution_count": 6,
   "id": "3f488532",
   "metadata": {},
   "outputs": [],
   "source": [
    "# from IPython.display import HTML\n",
    "# style = \"<style>svg{width:30% !important;height:30% !important;}</style>\"\n",
    "# HTML(style);"
   ]
  },
  {
   "cell_type": "code",
   "execution_count": 7,
   "id": "99f13e17",
   "metadata": {},
   "outputs": [],
   "source": [
    "data_path = 'D:/GoogleDrive/Обмен/Programming/My projects/DataScience/Amgpgu/Magistracy/Data/'\n",
    "# data_path = 'H:/GoogleDrive/Обмен/Programming/My projects/DataScience/Amgpgu/Magistracy/Data/'"
   ]
  },
  {
   "cell_type": "code",
   "execution_count": 8,
   "id": "026d3464",
   "metadata": {},
   "outputs": [],
   "source": [
    "bachelors_data_train = pd.read_excel(data_path + 'Data bachelors Train.xlsx')\n",
    "bachelors_data_test = pd.read_excel(data_path + 'Data bachelors Test.xlsx')\n",
    "pc_2015_data = pd.read_excel(data_path + 'Application PC 2015.xlsx')\n",
    "pc_2016_data = pd.read_excel(data_path + 'Application PC 2016.xlsx')\n",
    "pc_2017_data = pd.read_excel(data_path + 'Application PC 2017.xlsx')\n",
    "pc_2018_data = pd.read_excel(data_path + 'Application PC 2018.xlsx')\n",
    "pc_2019_data = pd.read_excel(data_path + 'Application PC 2019.xlsx')\n",
    "pc_2020_data = pd.read_excel(data_path + 'Application PC 2020.xlsx')\n",
    "pc_2021_data = pd.read_excel(data_path + 'Application PC 2021.xlsx')\n",
    "pc_data_test = pd.read_excel(data_path + 'Application PC 2022.xlsx')"
   ]
  },
  {
   "cell_type": "code",
   "execution_count": 9,
   "id": "36590fdd",
   "metadata": {},
   "outputs": [],
   "source": [
    "pc_data_train = pd.concat([pc_2015_data, pc_2016_data, pc_2017_data, pc_2018_data, pc_2019_data, pc_2020_data, pc_2021_data])"
   ]
  },
  {
   "cell_type": "code",
   "execution_count": 10,
   "id": "0e19995b",
   "metadata": {},
   "outputs": [],
   "source": [
    "def pc_data_edit(df_pc_data):\n",
    "    df_pc_data.drop_duplicates(inplace=True)\n",
    "    df_pc_data['ПодалЗаявление'] = True    "
   ]
  },
  {
   "cell_type": "code",
   "execution_count": 11,
   "id": "1a8d2ad0",
   "metadata": {},
   "outputs": [],
   "source": [
    "pc_data_edit(pc_data_train)\n",
    "pc_data_edit(pc_data_test)"
   ]
  },
  {
   "cell_type": "code",
   "execution_count": 12,
   "id": "115928b3",
   "metadata": {
    "scrolled": true
   },
   "outputs": [],
   "source": [
    "# pc_data_train.head()"
   ]
  },
  {
   "cell_type": "code",
   "execution_count": 13,
   "id": "1c198e34",
   "metadata": {},
   "outputs": [],
   "source": [
    "# bachelors_data_train.head()"
   ]
  },
  {
   "cell_type": "code",
   "execution_count": 14,
   "id": "d544eade",
   "metadata": {},
   "outputs": [
    {
     "data": {
      "text/plain": [
       "(669, 4)"
      ]
     },
     "metadata": {},
     "output_type": "display_data"
    },
    {
     "data": {
      "text/plain": [
       "632"
      ]
     },
     "metadata": {},
     "output_type": "display_data"
    }
   ],
   "source": [
    "display(pc_data_train.shape)\n",
    "display(pc_data_train.Студент.nunique())"
   ]
  },
  {
   "cell_type": "code",
   "execution_count": 15,
   "id": "c2aacf42",
   "metadata": {},
   "outputs": [],
   "source": [
    "pc_temp = pc_data_train.groupby(['Студент', 'ДатаРождения', 'ПодалЗаявление'], as_index=False)\\\n",
    "    .aggregate({'Год': 'count'})"
   ]
  },
  {
   "cell_type": "code",
   "execution_count": 16,
   "id": "d77aad00",
   "metadata": {},
   "outputs": [
    {
     "data": {
      "text/plain": [
       "(32, 4)"
      ]
     },
     "execution_count": 16,
     "metadata": {},
     "output_type": "execute_result"
    }
   ],
   "source": [
    "pc_temp[pc_temp.Год > 1].shape"
   ]
  },
  {
   "cell_type": "code",
   "execution_count": 17,
   "id": "fd36205d",
   "metadata": {},
   "outputs": [
    {
     "data": {
      "text/plain": [
       "(177, 9)"
      ]
     },
     "execution_count": 17,
     "metadata": {},
     "output_type": "execute_result"
    }
   ],
   "source": [
    "bachelors_data_test.shape"
   ]
  },
  {
   "cell_type": "code",
   "execution_count": 18,
   "id": "e89e92e4",
   "metadata": {},
   "outputs": [],
   "source": [
    "def students_data_edit(df_bachelors_data, df_pc_data):\n",
    "    students_data = df_bachelors_data.merge(df_pc_data, on=['Студент', 'ДатаРождения', 'Год'], how='left').rename(columns=\n",
    "                                                   {'Студент' : 'Student',\n",
    "                                                    'Пол' : 'Sex',\n",
    "                                                    'ДатаРождения' : 'BirthDate',\n",
    "                                                    'Год' : 'YearOfEnding',\n",
    "                                                    'ПедОбразование' : 'Pedagog',\n",
    "                                                    'КурсовыеРаботы' : 'Coursework',\n",
    "                                                    'Дисциплины' : 'Disciplines',\n",
    "                                                    'ДипломныеРаботы' : 'Diploma',\n",
    "                                                    'Практики' : 'Practices',\n",
    "                                                    'ПодалЗаявление' : 'Applied'})\n",
    "    students_data = students_data.fillna(False)\n",
    "    students_data['DateOfEnding'] = students_data['YearOfEnding'] \\\n",
    "        .map(lambda x: date(int(x), 6, 20))\n",
    "    students_data['Age'] = students_data['BirthDate'].map(lambda x: datetime.strptime(x, \"%d.%m.%Y %H:%M:%S\").date())\n",
    "    students_data['Age'] = np.floor((students_data['DateOfEnding'] - students_data['Age']).dt.days / 365)\n",
    "    students_data['Sex'] = np.where(students_data['Sex'] == 'Мужской', 'Male', 'Female')\n",
    "    students_data['Pedagog'] = np.where(students_data['Pedagog'] == 1, True, False)\n",
    "    #     X = students_data[['Sex', 'Age', 'Pedagog', 'Coursework', 'Disciplines', 'Diploma', 'Practices']]\n",
    "    X = students_data[['Sex', 'Age', 'Pedagog', 'Disciplines']]\n",
    "    X = pd.get_dummies(X, columns=['Sex', 'Pedagog'])\n",
    "    y = students_data['Applied']\n",
    "    return (X, y)"
   ]
  },
  {
   "cell_type": "code",
   "execution_count": 19,
   "id": "a539a001",
   "metadata": {
    "scrolled": true
   },
   "outputs": [],
   "source": [
    "X_train, y_train = students_data_edit(bachelors_data_train, pc_data_train)\n",
    "X_test, y_test = students_data_edit(bachelors_data_test, pc_data_test)"
   ]
  },
  {
   "cell_type": "code",
   "execution_count": 20,
   "id": "3f42efa5",
   "metadata": {
    "scrolled": false
   },
   "outputs": [
    {
     "data": {
      "text/html": [
       "<div>\n",
       "<style scoped>\n",
       "    .dataframe tbody tr th:only-of-type {\n",
       "        vertical-align: middle;\n",
       "    }\n",
       "\n",
       "    .dataframe tbody tr th {\n",
       "        vertical-align: top;\n",
       "    }\n",
       "\n",
       "    .dataframe thead th {\n",
       "        text-align: right;\n",
       "    }\n",
       "</style>\n",
       "<table border=\"1\" class=\"dataframe\">\n",
       "  <thead>\n",
       "    <tr style=\"text-align: right;\">\n",
       "      <th></th>\n",
       "      <th>Age</th>\n",
       "      <th>Disciplines</th>\n",
       "      <th>Sex_Female</th>\n",
       "      <th>Sex_Male</th>\n",
       "      <th>Pedagog_False</th>\n",
       "      <th>Pedagog_True</th>\n",
       "    </tr>\n",
       "  </thead>\n",
       "  <tbody>\n",
       "    <tr>\n",
       "      <th>0</th>\n",
       "      <td>24.0</td>\n",
       "      <td>4.586206</td>\n",
       "      <td>0</td>\n",
       "      <td>1</td>\n",
       "      <td>1</td>\n",
       "      <td>0</td>\n",
       "    </tr>\n",
       "    <tr>\n",
       "      <th>1</th>\n",
       "      <td>22.0</td>\n",
       "      <td>4.448275</td>\n",
       "      <td>1</td>\n",
       "      <td>0</td>\n",
       "      <td>1</td>\n",
       "      <td>0</td>\n",
       "    </tr>\n",
       "    <tr>\n",
       "      <th>2</th>\n",
       "      <td>25.0</td>\n",
       "      <td>4.580645</td>\n",
       "      <td>1</td>\n",
       "      <td>0</td>\n",
       "      <td>1</td>\n",
       "      <td>0</td>\n",
       "    </tr>\n",
       "    <tr>\n",
       "      <th>3</th>\n",
       "      <td>22.0</td>\n",
       "      <td>3.593750</td>\n",
       "      <td>1</td>\n",
       "      <td>0</td>\n",
       "      <td>1</td>\n",
       "      <td>0</td>\n",
       "    </tr>\n",
       "    <tr>\n",
       "      <th>4</th>\n",
       "      <td>21.0</td>\n",
       "      <td>3.939393</td>\n",
       "      <td>1</td>\n",
       "      <td>0</td>\n",
       "      <td>1</td>\n",
       "      <td>0</td>\n",
       "    </tr>\n",
       "  </tbody>\n",
       "</table>\n",
       "</div>"
      ],
      "text/plain": [
       "    Age  Disciplines  Sex_Female  Sex_Male  Pedagog_False  Pedagog_True\n",
       "0  24.0     4.586206           0         1              1             0\n",
       "1  22.0     4.448275           1         0              1             0\n",
       "2  25.0     4.580645           1         0              1             0\n",
       "3  22.0     3.593750           1         0              1             0\n",
       "4  21.0     3.939393           1         0              1             0"
      ]
     },
     "execution_count": 20,
     "metadata": {},
     "output_type": "execute_result"
    }
   ],
   "source": [
    "X_train.head()"
   ]
  },
  {
   "cell_type": "code",
   "execution_count": 21,
   "id": "3f79ad6b",
   "metadata": {},
   "outputs": [
    {
     "data": {
      "text/plain": [
       "1371"
      ]
     },
     "execution_count": 21,
     "metadata": {},
     "output_type": "execute_result"
    }
   ],
   "source": [
    "X_train.Age.count()"
   ]
  },
  {
   "cell_type": "code",
   "execution_count": 22,
   "id": "35788f39",
   "metadata": {},
   "outputs": [
    {
     "data": {
      "text/plain": [
       "22.0    587\n",
       "21.0    418\n",
       "23.0    218\n",
       "24.0     79\n",
       "25.0     31\n",
       "20.0     18\n",
       "26.0     12\n",
       "27.0      5\n",
       "32.0      1\n",
       "35.0      1\n",
       "29.0      1\n",
       "Name: Age, dtype: int64"
      ]
     },
     "execution_count": 22,
     "metadata": {},
     "output_type": "execute_result"
    }
   ],
   "source": [
    "X_train.Age.value_counts()"
   ]
  },
  {
   "cell_type": "code",
   "execution_count": 23,
   "id": "07bc3378",
   "metadata": {},
   "outputs": [],
   "source": [
    "gbrt_clf = GradientBoostingClassifier()\n",
    "gbrt_parametrs = {'max_depth': range(1, 11),\n",
    "             'learning_rate': [0.01, 0.1, 1],\n",
    "             'n_estimators': range(50, 300, 50)\n",
    "            }"
   ]
  },
  {
   "cell_type": "code",
   "execution_count": 24,
   "id": "259e62d6",
   "metadata": {},
   "outputs": [],
   "source": [
    "grid_search_cv_clf = GridSearchCV(gbrt_clf, gbrt_parametrs, cv=5, scoring='roc_auc')"
   ]
  },
  {
   "cell_type": "code",
   "execution_count": 25,
   "id": "e7842393",
   "metadata": {},
   "outputs": [
    {
     "data": {
      "text/plain": [
       "GridSearchCV(cv=5, estimator=GradientBoostingClassifier(),\n",
       "             param_grid={'learning_rate': [0.01, 0.1, 1],\n",
       "                         'max_depth': range(1, 11),\n",
       "                         'n_estimators': range(50, 300, 50)},\n",
       "             scoring='roc_auc')"
      ]
     },
     "execution_count": 25,
     "metadata": {},
     "output_type": "execute_result"
    }
   ],
   "source": [
    "grid_search_cv_clf.fit(X_train, y_train)"
   ]
  },
  {
   "cell_type": "code",
   "execution_count": 26,
   "id": "c04fdbd4",
   "metadata": {},
   "outputs": [
    {
     "data": {
      "text/plain": [
       "{'learning_rate': 0.01, 'max_depth': 2, 'n_estimators': 150}"
      ]
     },
     "metadata": {},
     "output_type": "display_data"
    }
   ],
   "source": [
    "display(grid_search_cv_clf.best_params_)\n",
    "best_clf = grid_search_cv_clf.best_estimator_"
   ]
  },
  {
   "cell_type": "code",
   "execution_count": 27,
   "id": "44c55eec",
   "metadata": {},
   "outputs": [],
   "source": [
    "y_pred = best_clf.predict(X_test)"
   ]
  },
  {
   "cell_type": "code",
   "execution_count": 28,
   "id": "fc800f63",
   "metadata": {},
   "outputs": [
    {
     "data": {
      "text/plain": [
       "0.8482859226841721"
      ]
     },
     "metadata": {},
     "output_type": "display_data"
    },
    {
     "data": {
      "text/plain": [
       "0.8926553672316384"
      ]
     },
     "metadata": {},
     "output_type": "display_data"
    },
    {
     "name": "stderr",
     "output_type": "stream",
     "text": [
      "C:\\Users\\sklyar\\AppData\\Roaming\\Python\\Python37\\site-packages\\sklearn\\metrics\\_classification.py:1318: UndefinedMetricWarning: Precision is ill-defined and being set to 0.0 due to no predicted samples. Use `zero_division` parameter to control this behavior.\n",
      "  _warn_prf(average, modifier, msg_start, len(result))\n"
     ]
    },
    {
     "data": {
      "text/plain": [
       "0.0"
      ]
     },
     "metadata": {},
     "output_type": "display_data"
    },
    {
     "data": {
      "text/plain": [
       "0.0"
      ]
     },
     "metadata": {},
     "output_type": "display_data"
    }
   ],
   "source": [
    "display(best_clf.score(X_train, y_train))\n",
    "display(best_clf.score(X_test, y_test))\n",
    "display(metrics.precision_score(y_test, y_pred))\n",
    "display(metrics.recall_score(y_test, y_pred))"
   ]
  },
  {
   "cell_type": "code",
   "execution_count": 29,
   "id": "b2ebbd96",
   "metadata": {},
   "outputs": [
    {
     "data": {
      "text/plain": [
       "False    158\n",
       "True      19\n",
       "Name: Applied, dtype: int64"
      ]
     },
     "execution_count": 29,
     "metadata": {},
     "output_type": "execute_result"
    }
   ],
   "source": [
    "y_test.value_counts()"
   ]
  },
  {
   "cell_type": "code",
   "execution_count": 30,
   "id": "982dcdf4",
   "metadata": {},
   "outputs": [
    {
     "data": {
      "text/plain": [
       "array([False, False, False, False, False, False, False, False, False,\n",
       "       False, False, False, False, False, False, False, False, False,\n",
       "       False, False, False, False, False, False, False, False, False,\n",
       "       False, False, False, False, False, False, False, False, False,\n",
       "       False, False, False, False, False, False, False, False, False,\n",
       "       False, False, False, False, False, False, False, False, False,\n",
       "       False, False, False, False, False, False, False, False, False,\n",
       "       False, False, False, False, False, False, False, False, False,\n",
       "       False, False, False, False, False, False, False, False, False,\n",
       "       False, False, False, False, False, False, False, False, False,\n",
       "       False, False, False, False, False, False, False, False, False,\n",
       "       False, False, False, False, False, False, False, False, False,\n",
       "       False, False, False, False, False, False, False, False, False,\n",
       "       False, False, False, False, False, False, False, False, False,\n",
       "       False, False, False, False, False, False, False, False, False,\n",
       "       False, False, False, False, False, False, False, False, False,\n",
       "       False, False, False, False, False, False, False, False, False,\n",
       "       False, False, False, False, False, False, False, False, False,\n",
       "       False, False, False, False, False, False, False, False, False,\n",
       "       False, False, False, False, False, False])"
      ]
     },
     "execution_count": 30,
     "metadata": {},
     "output_type": "execute_result"
    }
   ],
   "source": [
    "y_pred"
   ]
  },
  {
   "cell_type": "code",
   "execution_count": 31,
   "id": "d4fb0cdd",
   "metadata": {},
   "outputs": [
    {
     "data": {
      "text/plain": [
       "array([0.10285785, 0.55640214, 0.        , 0.        , 0.17546564,\n",
       "       0.16527437])"
      ]
     },
     "execution_count": 31,
     "metadata": {},
     "output_type": "execute_result"
    }
   ],
   "source": [
    "best_clf.feature_importances_"
   ]
  },
  {
   "cell_type": "code",
   "execution_count": 32,
   "id": "da63ccf5",
   "metadata": {},
   "outputs": [
    {
     "data": {
      "text/plain": [
       "array(['Age', 'Disciplines', 'Sex_Female', 'Sex_Male', 'Pedagog_False',\n",
       "       'Pedagog_True'], dtype=object)"
      ]
     },
     "execution_count": 32,
     "metadata": {},
     "output_type": "execute_result"
    }
   ],
   "source": [
    "best_clf.feature_names_in_"
   ]
  },
  {
   "cell_type": "code",
   "execution_count": 33,
   "id": "a6fed1ed",
   "metadata": {},
   "outputs": [
    {
     "data": {
      "text/plain": [
       "<sklearn.metrics._plot.confusion_matrix.ConfusionMatrixDisplay at 0x28252bdf348>"
      ]
     },
     "execution_count": 33,
     "metadata": {},
     "output_type": "execute_result"
    },
    {
     "data": {
      "image/png": "[encoded data removed]",
      "text/plain": [
       "<Figure size 432x288 with 2 Axes>"
      ]
     },
     "metadata": {
      "needs_background": "light"
     },
     "output_type": "display_data"
    }
   ],
   "source": [
    "conf_matrix = confusion_matrix(y_test, y_pred)\n",
    "disp = ConfusionMatrixDisplay(confusion_matrix=conf_matrix)\n",
    "disp.plot()"
   ]
  },
  {
   "cell_type": "code",
   "execution_count": 34,
   "id": "2c1a65b4",
   "metadata": {},
   "outputs": [],
   "source": [
    "all_data = bachelors_data_train.merge(pc_data_train, on=['Студент', 'ДатаРождения', 'Год'], how='left').rename(columns=\n",
    "                                                   {'Пол' : 'Sex',\n",
    "                                                    'ДатаРождения' : 'BirthDate',\n",
    "                                                    'Год' : 'YearOfEnding',\n",
    "                                                    'ПедОбразование' : 'Pedagog',\n",
    "                                                    'КурсовыеРаботы' : 'Coursework',\n",
    "                                                    'Дисциплины' : 'Disciplines',\n",
    "                                                    'ДипломныеРаботы' : 'Diploma',\n",
    "                                                    'Практики' : 'Practices',\n",
    "                                                    'ПодалЗаявление' : 'Applied'}).drop(['Студент'], axis=1)\n",
    "all_data = all_data.fillna(False)"
   ]
  },
  {
   "cell_type": "code",
   "execution_count": 35,
   "id": "0dda58bf",
   "metadata": {
    "scrolled": true
   },
   "outputs": [],
   "source": [
    "all_data['DateOfEnding'] = all_data['YearOfEnding'].map(lambda x: date(int(x), 6, 20))\n",
    "all_data['Age'] = all_data['BirthDate'].map(lambda x: datetime.strptime(x, \"%d.%m.%Y %H:%M:%S\").date())\n",
    "all_data['Age'] = np.floor((all_data['DateOfEnding'] - all_data['Age']).dt.days / 365)"
   ]
  },
  {
   "cell_type": "code",
   "execution_count": 36,
   "id": "7f6d03b3",
   "metadata": {},
   "outputs": [
    {
     "data": {
      "text/html": [
       "<div>\n",
       "<style scoped>\n",
       "    .dataframe tbody tr th:only-of-type {\n",
       "        vertical-align: middle;\n",
       "    }\n",
       "\n",
       "    .dataframe tbody tr th {\n",
       "        vertical-align: top;\n",
       "    }\n",
       "\n",
       "    .dataframe thead th {\n",
       "        text-align: right;\n",
       "    }\n",
       "</style>\n",
       "<table border=\"1\" class=\"dataframe\">\n",
       "  <thead>\n",
       "    <tr style=\"text-align: right;\">\n",
       "      <th></th>\n",
       "      <th>Sex</th>\n",
       "      <th>BirthDate</th>\n",
       "      <th>YearOfEnding</th>\n",
       "      <th>Pedagog</th>\n",
       "      <th>Coursework</th>\n",
       "      <th>Disciplines</th>\n",
       "      <th>Diploma</th>\n",
       "      <th>Practices</th>\n",
       "      <th>Applied</th>\n",
       "      <th>DateOfEnding</th>\n",
       "      <th>Age</th>\n",
       "    </tr>\n",
       "  </thead>\n",
       "  <tbody>\n",
       "    <tr>\n",
       "      <th>0</th>\n",
       "      <td>Мужской</td>\n",
       "      <td>29.10.1996 0:00:00</td>\n",
       "      <td>2021</td>\n",
       "      <td>0</td>\n",
       "      <td>5.000000</td>\n",
       "      <td>4.586206</td>\n",
       "      <td>5.0</td>\n",
       "      <td>5.000000</td>\n",
       "      <td>False</td>\n",
       "      <td>2021-06-20</td>\n",
       "      <td>24.0</td>\n",
       "    </tr>\n",
       "    <tr>\n",
       "      <th>1</th>\n",
       "      <td>Женский</td>\n",
       "      <td>12.03.1999 0:00:00</td>\n",
       "      <td>2021</td>\n",
       "      <td>0</td>\n",
       "      <td>4.666666</td>\n",
       "      <td>4.448275</td>\n",
       "      <td>4.0</td>\n",
       "      <td>4.000000</td>\n",
       "      <td>False</td>\n",
       "      <td>2021-06-20</td>\n",
       "      <td>22.0</td>\n",
       "    </tr>\n",
       "    <tr>\n",
       "      <th>2</th>\n",
       "      <td>Женский</td>\n",
       "      <td>30.04.1995 0:00:00</td>\n",
       "      <td>2020</td>\n",
       "      <td>0</td>\n",
       "      <td>5.000000</td>\n",
       "      <td>4.580645</td>\n",
       "      <td>5.0</td>\n",
       "      <td>5.000000</td>\n",
       "      <td>False</td>\n",
       "      <td>2020-06-20</td>\n",
       "      <td>25.0</td>\n",
       "    </tr>\n",
       "    <tr>\n",
       "      <th>3</th>\n",
       "      <td>Женский</td>\n",
       "      <td>06.06.1995 0:00:00</td>\n",
       "      <td>2017</td>\n",
       "      <td>0</td>\n",
       "      <td>3.000000</td>\n",
       "      <td>3.593750</td>\n",
       "      <td>4.0</td>\n",
       "      <td>3.666666</td>\n",
       "      <td>False</td>\n",
       "      <td>2017-06-20</td>\n",
       "      <td>22.0</td>\n",
       "    </tr>\n",
       "    <tr>\n",
       "      <th>4</th>\n",
       "      <td>Женский</td>\n",
       "      <td>10.08.1995 0:00:00</td>\n",
       "      <td>2017</td>\n",
       "      <td>0</td>\n",
       "      <td>4.333333</td>\n",
       "      <td>3.939393</td>\n",
       "      <td>5.0</td>\n",
       "      <td>4.333333</td>\n",
       "      <td>False</td>\n",
       "      <td>2017-06-20</td>\n",
       "      <td>21.0</td>\n",
       "    </tr>\n",
       "  </tbody>\n",
       "</table>\n",
       "</div>"
      ],
      "text/plain": [
       "       Sex           BirthDate  YearOfEnding  Pedagog  Coursework  \\\n",
       "0  Мужской  29.10.1996 0:00:00          2021        0    5.000000   \n",
       "1  Женский  12.03.1999 0:00:00          2021        0    4.666666   \n",
       "2  Женский  30.04.1995 0:00:00          2020        0    5.000000   \n",
       "3  Женский  06.06.1995 0:00:00          2017        0    3.000000   \n",
       "4  Женский  10.08.1995 0:00:00          2017        0    4.333333   \n",
       "\n",
       "   Disciplines  Diploma  Practices  Applied DateOfEnding   Age  \n",
       "0     4.586206      5.0   5.000000    False   2021-06-20  24.0  \n",
       "1     4.448275      4.0   4.000000    False   2021-06-20  22.0  \n",
       "2     4.580645      5.0   5.000000    False   2020-06-20  25.0  \n",
       "3     3.593750      4.0   3.666666    False   2017-06-20  22.0  \n",
       "4     3.939393      5.0   4.333333    False   2017-06-20  21.0  "
      ]
     },
     "execution_count": 36,
     "metadata": {},
     "output_type": "execute_result"
    }
   ],
   "source": [
    "all_data.head()"
   ]
  },
  {
   "cell_type": "code",
   "execution_count": 37,
   "id": "9939d006",
   "metadata": {},
   "outputs": [
    {
     "data": {
      "text/plain": [
       "22.0    92\n",
       "21.0    69\n",
       "23.0    29\n",
       "24.0     8\n",
       "25.0     3\n",
       "26.0     3\n",
       "20.0     2\n",
       "27.0     1\n",
       "35.0     1\n",
       "Name: Age, dtype: int64"
      ]
     },
     "execution_count": 37,
     "metadata": {},
     "output_type": "execute_result"
    }
   ],
   "source": [
    "all_data[all_data.Applied == True].Age.value_counts()"
   ]
  },
  {
   "cell_type": "code",
   "execution_count": 38,
   "id": "10c431cb",
   "metadata": {},
   "outputs": [
    {
     "data": {
      "image/png": "[encoded data removed]",
      "text/plain": [
       "<Figure size 432x288 with 1 Axes>"
      ]
     },
     "metadata": {
      "needs_background": "light"
     },
     "output_type": "display_data"
    }
   ],
   "source": [
    "Applied = all_data[all_data.Applied == True]['Disciplines']\n",
    "NotApplied = all_data[all_data.Applied == False]['Disciplines']\n",
    "plt.hist(NotApplied, alpha=.5)\n",
    "plt.hist(Applied, alpha=.5)\n",
    "plt.xlabel('СреднийБалл')\n",
    "plt.ylabel('Частота')\n",
    "plt.legend(['Не подали заявление', 'Подали заявление'], loc='best');"
   ]
  },
  {
   "cell_type": "code",
   "execution_count": 39,
   "id": "77ad8aff",
   "metadata": {},
   "outputs": [
    {
     "data": {
      "text/plain": [
       "972     3.193548\n",
       "216     3.200000\n",
       "791     3.214285\n",
       "872     3.285714\n",
       "1066    3.291666\n",
       "          ...   \n",
       "92      5.000000\n",
       "888     5.000000\n",
       "197     5.000000\n",
       "508     5.000000\n",
       "1105    5.000000\n",
       "Name: Disciplines, Length: 208, dtype: float64"
      ]
     },
     "execution_count": 39,
     "metadata": {},
     "output_type": "execute_result"
    }
   ],
   "source": [
    "Applied.sort_values(ascending=True)"
   ]
  },
  {
   "cell_type": "code",
   "execution_count": 40,
   "id": "3d5d5cfb",
   "metadata": {},
   "outputs": [],
   "source": [
    "# best_clf.predict_proba(X_test)"
   ]
  },
  {
   "cell_type": "code",
   "execution_count": 41,
   "id": "dddc39f5",
   "metadata": {},
   "outputs": [],
   "source": [
    "y_pred_lower_threshold = best_clf.predict_proba(X_test)[:, 1] > 0.25"
   ]
  },
  {
   "cell_type": "code",
   "execution_count": 42,
   "id": "1bf079d7",
   "metadata": {},
   "outputs": [
    {
     "data": {
      "text/plain": [
       "<sklearn.metrics._plot.confusion_matrix.ConfusionMatrixDisplay at 0x28255f3a248>"
      ]
     },
     "execution_count": 42,
     "metadata": {},
     "output_type": "execute_result"
    },
    {
     "data": {
      "image/png": "[encoded data removed]",
      "text/plain": [
       "<Figure size 432x288 with 2 Axes>"
      ]
     },
     "metadata": {
      "needs_background": "light"
     },
     "output_type": "display_data"
    }
   ],
   "source": [
    "conf_matrix = confusion_matrix(y_test, y_pred_lower_threshold)\n",
    "disp = ConfusionMatrixDisplay(confusion_matrix=conf_matrix)\n",
    "disp.plot()"
   ]
  },
  {
   "cell_type": "code",
   "execution_count": 43,
   "id": "6fdaf3f0",
   "metadata": {},
   "outputs": [
    {
     "data": {
      "text/plain": [
       "0.18181818181818182"
      ]
     },
     "metadata": {},
     "output_type": "display_data"
    },
    {
     "data": {
      "text/plain": [
       "0.10526315789473684"
      ]
     },
     "metadata": {},
     "output_type": "display_data"
    }
   ],
   "source": [
    "display(metrics.precision_score(y_test, y_pred_lower_threshold))\n",
    "display(metrics.recall_score(y_test, y_pred_lower_threshold))"
   ]
  },
  {
   "cell_type": "code",
   "execution_count": 44,
   "id": "6c4464c5",
   "metadata": {},
   "outputs": [],
   "source": [
    "tree_clf = DecisionTreeClassifier()\n",
    "tree_parametrs = {'criterion': ['gini', 'entropy'],\n",
    "             'max_depth': [5, 10, 15, 20],\n",
    "             'min_samples_split': range(2, 11),\n",
    "             'min_samples_leaf': range(1, 6)\n",
    "            }"
   ]
  },
  {
   "cell_type": "code",
   "execution_count": 45,
   "id": "2e2ace4a",
   "metadata": {},
   "outputs": [],
   "source": [
    "grid_search_cv_tree = GridSearchCV(tree_clf, tree_parametrs, cv=5, scoring='roc_auc')"
   ]
  },
  {
   "cell_type": "code",
   "execution_count": 46,
   "id": "5eebdb6a",
   "metadata": {},
   "outputs": [
    {
     "data": {
      "text/plain": [
       "GridSearchCV(cv=5, estimator=DecisionTreeClassifier(),\n",
       "             param_grid={'criterion': ['gini', 'entropy'],\n",
       "                         'max_depth': [5, 10, 15, 20],\n",
       "                         'min_samples_leaf': range(1, 6),\n",
       "                         'min_samples_split': range(2, 11)},\n",
       "             scoring='roc_auc')"
      ]
     },
     "execution_count": 46,
     "metadata": {},
     "output_type": "execute_result"
    }
   ],
   "source": [
    "grid_search_cv_tree.fit(X_train, y_train)"
   ]
  },
  {
   "cell_type": "code",
   "execution_count": 47,
   "id": "ae546718",
   "metadata": {},
   "outputs": [
    {
     "data": {
      "text/plain": [
       "{'criterion': 'gini',\n",
       " 'max_depth': 15,\n",
       " 'min_samples_leaf': 4,\n",
       " 'min_samples_split': 2}"
      ]
     },
     "metadata": {},
     "output_type": "display_data"
    }
   ],
   "source": [
    "display(grid_search_cv_tree.best_params_)\n",
    "best_tree_clf = grid_search_cv_tree.best_estimator_"
   ]
  },
  {
   "cell_type": "code",
   "execution_count": 48,
   "id": "a178c3e2",
   "metadata": {},
   "outputs": [],
   "source": [
    "y_pred_tree = best_tree_clf.predict(X_test)"
   ]
  },
  {
   "cell_type": "code",
   "execution_count": 49,
   "id": "538f0380",
   "metadata": {},
   "outputs": [
    {
     "data": {
      "text/plain": [
       "0.8694383661560905"
      ]
     },
     "metadata": {},
     "output_type": "display_data"
    },
    {
     "data": {
      "text/plain": [
       "0.8248587570621468"
      ]
     },
     "metadata": {},
     "output_type": "display_data"
    },
    {
     "data": {
      "text/plain": [
       "0.0"
      ]
     },
     "metadata": {},
     "output_type": "display_data"
    },
    {
     "data": {
      "text/plain": [
       "0.0"
      ]
     },
     "metadata": {},
     "output_type": "display_data"
    }
   ],
   "source": [
    "display(best_tree_clf.score(X_train, y_train))\n",
    "display(best_tree_clf.score(X_test, y_test))\n",
    "display(metrics.precision_score(y_test, y_pred_tree))\n",
    "display(metrics.recall_score(y_test, y_pred_tree))"
   ]
  },
  {
   "cell_type": "code",
   "execution_count": 50,
   "id": "9fb97e44",
   "metadata": {},
   "outputs": [
    {
     "data": {
      "text/plain": [
       "<sklearn.metrics._plot.confusion_matrix.ConfusionMatrixDisplay at 0x28256044188>"
      ]
     },
     "execution_count": 50,
     "metadata": {},
     "output_type": "execute_result"
    },
    {
     "data": {
      "image/png": "[encoded data removed]",
      "text/plain": [
       "<Figure size 432x288 with 2 Axes>"
      ]
     },
     "metadata": {
      "needs_background": "light"
     },
     "output_type": "display_data"
    }
   ],
   "source": [
    "conf_matrix = confusion_matrix(y_test, y_pred_tree)\n",
    "disp = ConfusionMatrixDisplay(confusion_matrix=conf_matrix)\n",
    "disp.plot()"
   ]
  },
  {
   "cell_type": "code",
   "execution_count": 51,
   "id": "cd85dc17",
   "metadata": {},
   "outputs": [],
   "source": [
    "dot_data = tree.export_graphviz(best_tree_clf, out_file=None\n",
    "       , feature_names=list(X_train), class_names=['NotApplied', 'Applied']\n",
    "       , filled=True)\n",
    "graph = pydotplus.graph_from_dot_data(dot_data)\n",
    "graph.write_png('tree.png');"
   ]
  },
  {
   "cell_type": "code",
   "execution_count": null,
   "id": "14deede0",
   "metadata": {},
   "outputs": [],
   "source": []
  }
 ],
 "metadata": {
  "kernelspec": {
   "display_name": "Python 3 (ipykernel)",
   "language": "python",
   "name": "python3"
  },
  "language_info": {
   "codemirror_mode": {
    "name": "ipython",
    "version": 3
   },
   "file_extension": ".py",
   "mimetype": "text/x-python",
   "name": "python",
   "nbconvert_exporter": "python",
   "pygments_lexer": "ipython3",
   "version": "3.7.8"
  }
 },
 "nbformat": 4,
 "nbformat_minor": 5
}
